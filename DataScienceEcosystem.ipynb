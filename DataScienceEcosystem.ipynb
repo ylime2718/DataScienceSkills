{
  "nbformat": 4,
  "nbformat_minor": 0,
  "metadata": {
    "colab": {
      "provenance": []
    },
    "kernelspec": {
      "name": "python3",
      "display_name": "Python 3"
    },
    "language_info": {
      "name": "python"
    }
  },
  "cells": [
    {
      "cell_type": "markdown",
      "source": [
        "<h1> Data Science Tools and Ecosystem </h1>"
      ],
      "metadata": {
        "id": "AwOdz7AujAWt"
      }
    },
    {
      "cell_type": "markdown",
      "source": [
        "In this notebook, Data Science Tools and Ecosystem are summarized."
      ],
      "metadata": {
        "id": "_R9PTDCSjXbg"
      }
    },
    {
      "cell_type": "markdown",
      "source": [
        "**Objectives**\n",
        "\n",
        "\n",
        "*   List popular languages for Data Science\n",
        "*   List common Open Source development environments for Data Science\n",
        "*   Demonstrate capabilities of Jupyter notebook (combining markdown & code cells)\n",
        "*   Demonstrate Python syntax for simple arithmetic operations\n",
        "\n"
      ],
      "metadata": {
        "id": "rY8--reBMo0w"
      }
    },
    {
      "cell_type": "markdown",
      "source": [
        "Some of the popular languages that Data Scientists use are:\n",
        "\n",
        "1.   Python\n",
        "2.   R\n",
        "3.   Scala\n",
        "4.   Julia\n",
        "\n"
      ],
      "metadata": {
        "id": "Mo1rlUy_jjOj"
      }
    },
    {
      "cell_type": "markdown",
      "source": [
        "Some of the commonly used libraries for Data Science include:\n",
        "\n",
        "\n",
        "1.   matplotlib\n",
        "2.   seaborn\n",
        "3.   numpy\n",
        "4.   tensorflow\n",
        "5.   pytorch\n",
        "6.   scikit-learn\n",
        "7.   pandas\n",
        "8.   ggplot\n",
        "9.   dplyr\n",
        "\n"
      ],
      "metadata": {
        "id": "33QaD_FmRMN1"
      }
    },
    {
      "cell_type": "markdown",
      "source": [
        "|Data Science Tools|\n",
        "|---|\n",
        "|Jupyter Lab|\n",
        "|Jupyter Notebooks|\n",
        "|RStudio|\n",
        "|Spyder|"
      ],
      "metadata": {
        "id": "uJF4GAQ7kLSv"
      }
    },
    {
      "cell_type": "markdown",
      "source": [
        "<h3>Below are a few examples of evaluating arithmetic expressions in Python</h3>"
      ],
      "metadata": {
        "id": "Z9O1D9ttmIR4"
      }
    },
    {
      "cell_type": "code",
      "source": [
        "# This a simple arithmetic expression to mutiply then add integers\n",
        "(3*4)+5"
      ],
      "metadata": {
        "colab": {
          "base_uri": "https://localhost:8080/"
        },
        "id": "LEnIs8x0jd4s",
        "outputId": "b824aa99-3920-41ab-f137-d93431b9cf6e"
      },
      "execution_count": null,
      "outputs": [
        {
          "output_type": "execute_result",
          "data": {
            "text/plain": [
              "17"
            ]
          },
          "metadata": {},
          "execution_count": 1
        }
      ]
    },
    {
      "cell_type": "code",
      "source": [
        "# This will convert 200 minutes to hours by diving by 60\n",
        "200/60"
      ],
      "metadata": {
        "colab": {
          "base_uri": "https://localhost:8080/"
        },
        "id": "Cjt_aYDrmXLQ",
        "outputId": "2bd8201c-c90d-4092-8551-f6b98e848c0b"
      },
      "execution_count": null,
      "outputs": [
        {
          "output_type": "execute_result",
          "data": {
            "text/plain": [
              "3.3333333333333335"
            ]
          },
          "metadata": {},
          "execution_count": 2
        }
      ]
    },
    {
      "cell_type": "markdown",
      "source": [
        "<h2>Author</h2>\n",
        "Emily Carroll"
      ],
      "metadata": {
        "id": "y-Qr5_RhmvSI"
      }
    }
  ]
}